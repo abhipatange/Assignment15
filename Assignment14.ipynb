{
 "cells": [
  {
   "cell_type": "code",
   "execution_count": null,
   "id": "16d3b2f5-f6da-4013-b735-ced078a62421",
   "metadata": {},
   "outputs": [],
   "source": [
    "Q1. Explain the basic concept of clustering and give examples of applications where clustering is useful."
   ]
  },
  {
   "cell_type": "code",
   "execution_count": null,
   "id": "904f75c7-55f3-458c-91c6-866b47d034e3",
   "metadata": {},
   "outputs": [],
   "source": [
    "Ans = Clustering analysis is broadly used in many applications such as market research,\n",
    "pattern recognition, data analysis, and image processing. Clustering can also help \n",
    "marketers discover distinct groups in their customer base.\n",
    "And they can characterize their customer groups based on the purchasing patterns."
   ]
  },
  {
   "cell_type": "code",
   "execution_count": null,
   "id": "9bb70ef1-4f1d-496a-b65b-8d987b24ff78",
   "metadata": {},
   "outputs": [],
   "source": []
  },
  {
   "cell_type": "code",
   "execution_count": null,
   "id": "0bbf516a-69f6-4e79-8b6c-de9c7c3f98af",
   "metadata": {},
   "outputs": [],
   "source": [
    "Q2. What is DBSCAN and how does it differ from other clustering algorithms such as k-means and\n",
    "hierarchical clustering?"
   ]
  },
  {
   "cell_type": "code",
   "execution_count": null,
   "id": "8445192c-6936-41d9-b5e2-7a6a4202dc7e",
   "metadata": {},
   "outputs": [],
   "source": [
    "Ans = DBSCAN can identify clusters in a large spatial dataset by looking at the local density of corresponding elements. \n",
    "The advantage of the DBSCAN algorithm over the K-Means algorithm,\n",
    "is that the DBSCAN can determine which data points are noise or outliers."
   ]
  },
  {
   "cell_type": "code",
   "execution_count": null,
   "id": "5c982cad-4c5b-4054-8be5-b7af59094561",
   "metadata": {},
   "outputs": [],
   "source": []
  },
  {
   "cell_type": "code",
   "execution_count": null,
   "id": "ad7b4750-2a0d-4e5e-b7e0-1152454ff4b5",
   "metadata": {},
   "outputs": [],
   "source": [
    "Q3. How do you determine the optimal values for the epsilon and minimum points parameters in DBSCAN\n",
    "clustering?"
   ]
  },
  {
   "cell_type": "code",
   "execution_count": null,
   "id": "434fa3c4-c1bb-474d-a6a9-597f21e46c20",
   "metadata": {},
   "outputs": [],
   "source": [
    "Ans = Step 1: Calculate the average distance between each point in the data set and its 20 nearest neighbors\n",
    " Step 2: Sort distance values by ascending value and plot. \n",
    "The ideal value for ε will be equal to the distance value at the “crook of the elbow”,\n",
    "or the point of maximum curvature."
   ]
  },
  {
   "cell_type": "code",
   "execution_count": null,
   "id": "400b3259-a87b-425e-89ea-43f5bda0c2e0",
   "metadata": {},
   "outputs": [],
   "source": []
  },
  {
   "cell_type": "code",
   "execution_count": null,
   "id": "e9543e7a-6b7c-4871-ad7d-d9aaab85ca9f",
   "metadata": {},
   "outputs": [],
   "source": [
    "Q4. How does DBSCAN clustering handle outliers in a dataset?"
   ]
  },
  {
   "cell_type": "code",
   "execution_count": null,
   "id": "017f4039-b339-45cf-b3ad-607110069012",
   "metadata": {},
   "outputs": [],
   "source": [
    "Ans = Here SK-Learn library DBSCAN comes to the rescue to allow us to handle outliers for the Multi-variate datasets.\n",
    "DBSCAN considers two main parameters  to form a cluster with the nearest data point and based on\n",
    "the high or low-density region, it detects Inliers or outliers."
   ]
  },
  {
   "cell_type": "code",
   "execution_count": null,
   "id": "7a8b3d4f-c509-4786-ad77-3b2d0ad01ae3",
   "metadata": {},
   "outputs": [],
   "source": []
  },
  {
   "cell_type": "code",
   "execution_count": null,
   "id": "00aa0b47-7d22-4c30-a9c1-a364b1ca593c",
   "metadata": {},
   "outputs": [],
   "source": [
    "Q5. How does DBSCAN clustering differ from k-means clustering?"
   ]
  },
  {
   "cell_type": "code",
   "execution_count": null,
   "id": "77728a90-9cfa-472b-9247-65b870b53ad5",
   "metadata": {},
   "outputs": [],
   "source": [
    "Ans = The two main types of classification are K-Means clustering and Hierarchical Clustering.\n",
    "K-Means is used when the number of classes is fixed, while the latter is used for an unknown number of classes.\n",
    "Distance is used to separate observations into different groups in clustering algorithms."
   ]
  },
  {
   "cell_type": "code",
   "execution_count": null,
   "id": "0883d16e-2184-4598-b2be-303fe17c8930",
   "metadata": {},
   "outputs": [],
   "source": []
  },
  {
   "cell_type": "code",
   "execution_count": null,
   "id": "0f6dabe2-f4a9-47bc-8257-49e0a8290435",
   "metadata": {},
   "outputs": [],
   "source": [
    "Q6. Can DBSCAN clustering be applied to datasets with high dimensional feature spaces? If so, what are\n",
    "some potential challenges?"
   ]
  },
  {
   "cell_type": "code",
   "execution_count": null,
   "id": "d8502d77-d94e-4a1e-951c-c8f7b582718a",
   "metadata": {},
   "outputs": [],
   "source": [
    "Ans = DBSCAN is a typically used clustering algorithm due to its clustering ability for arbitrarily-shaped clusters \n",
    "and its robustness to outliers. the complexity of DBSCAN is O(n^2) in the worst case,\n",
    "and it practically becomes more severe in higher dimension."
   ]
  },
  {
   "cell_type": "code",
   "execution_count": null,
   "id": "6581b4c2-0997-4567-9322-9f7d333fc1c0",
   "metadata": {},
   "outputs": [],
   "source": []
  },
  {
   "cell_type": "code",
   "execution_count": null,
   "id": "b98a440f-2e91-497c-a357-2dbcc7cb3f54",
   "metadata": {},
   "outputs": [],
   "source": [
    "Q7. How does DBSCAN clustering handle clusters with varying densities?"
   ]
  },
  {
   "cell_type": "code",
   "execution_count": null,
   "id": "2b1e9263-aa22-44c6-a4ee-46f16a414a71",
   "metadata": {},
   "outputs": [],
   "source": [
    "Ans = DBSCAN is a density-based clustering algorithm that works on the assumption that clusters are dense regions\n",
    "in space separated by regions of lower density. \n",
    "It groups 'densely grouped' data points into a single cluster."
   ]
  },
  {
   "cell_type": "code",
   "execution_count": null,
   "id": "e92b345c-d9f3-4aea-8746-41d3c7ab9a0d",
   "metadata": {},
   "outputs": [],
   "source": []
  },
  {
   "cell_type": "code",
   "execution_count": null,
   "id": "041b55cc-6220-4b1f-b238-38f7589c17dd",
   "metadata": {},
   "outputs": [],
   "source": [
    "Q8. What are some common evaluation metrics used to assess the quality of DBSCAN clustering results?"
   ]
  },
  {
   "cell_type": "code",
   "execution_count": null,
   "id": "2b1e5d6c-c816-4a1e-80ed-308028bbd70e",
   "metadata": {},
   "outputs": [],
   "source": [
    "Ans = DBSCAN has two parameters.\n",
    "The first is ε, epsilon (“esp”), which defines the maximum distance allowed between two points within the same cluster.\n",
    "The second is minimum samples (“MinPts”), which defines the minimum number of data points required to form a distinct cluster."
   ]
  },
  {
   "cell_type": "code",
   "execution_count": null,
   "id": "648f7259-c3cc-43a2-8f9e-5f8bbdb6923c",
   "metadata": {},
   "outputs": [],
   "source": []
  },
  {
   "cell_type": "code",
   "execution_count": null,
   "id": "cc574f95-429f-429b-9494-5e725d1f4d85",
   "metadata": {},
   "outputs": [],
   "source": [
    "Q9. Can DBSCAN clustering be used for semi-supervised learning tasks?"
   ]
  },
  {
   "cell_type": "code",
   "execution_count": null,
   "id": "2489b0ec-ac44-452b-a546-e19330ec54ff",
   "metadata": {},
   "outputs": [],
   "source": [
    "Ans = Clustering methods that can be applied to partially labeled data or data with other\n",
    "types of outcome measures are known as semi-supervised clustering methods \n",
    "(or sometimes as supervised clustering methods)."
   ]
  },
  {
   "cell_type": "code",
   "execution_count": null,
   "id": "78d34326-3351-4e2f-9b3d-bdfed9c337dd",
   "metadata": {},
   "outputs": [],
   "source": []
  },
  {
   "cell_type": "code",
   "execution_count": null,
   "id": "82c02c26-948a-42f7-a0d9-8eadc3dd0b86",
   "metadata": {},
   "outputs": [],
   "source": [
    "Q10. How does DBSCAN clustering handle datasets with noise or missing values?"
   ]
  },
  {
   "cell_type": "code",
   "execution_count": null,
   "id": "769e503a-055e-4ce3-8769-d0d1ae14a3ad",
   "metadata": {},
   "outputs": [],
   "source": [
    "Ans = If the issue is due to the presence of null values in road_id, you can first impute the missing values and then apply dbscan.\n",
    "For dealing with the missing values, you can either delete the row with missing road_id , \n",
    "but this will result in loss of data."
   ]
  },
  {
   "cell_type": "code",
   "execution_count": null,
   "id": "11821d41-067e-42dc-bc51-66acab9c3c15",
   "metadata": {},
   "outputs": [],
   "source": []
  },
  {
   "cell_type": "code",
   "execution_count": null,
   "id": "b31f4a94-5bae-42f9-a951-0d8eb1a79c00",
   "metadata": {},
   "outputs": [],
   "source": []
  }
 ],
 "metadata": {
  "kernelspec": {
   "display_name": "Python 3 (ipykernel)",
   "language": "python",
   "name": "python3"
  },
  "language_info": {
   "codemirror_mode": {
    "name": "ipython",
    "version": 3
   },
   "file_extension": ".py",
   "mimetype": "text/x-python",
   "name": "python",
   "nbconvert_exporter": "python",
   "pygments_lexer": "ipython3",
   "version": "3.10.8"
  }
 },
 "nbformat": 4,
 "nbformat_minor": 5
}
